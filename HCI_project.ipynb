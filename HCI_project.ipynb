{
 "cells": [
  {
   "cell_type": "markdown",
   "metadata": {},
   "source": [
    "# importing necessary library\n"
   ]
  },
  {
   "cell_type": "code",
   "execution_count": 21,
   "metadata": {},
   "outputs": [],
   "source": [
    "import cv2\n",
    "import numpy as np\n",
    "import imutils\n",
    "import pytesseract \n",
    "from pytesseract import Output\n",
    "from PIL import Image\n",
    "import nltk\n",
    "import os\n",
    "import copy\n",
    "import urllib.request\n",
    "from gtts import gTTS\n",
    "import pyttsx3"
   ]
  },
  {
   "cell_type": "markdown",
   "metadata": {},
   "source": [
    "# connecting phone camera to opencv using python and save the png file"
   ]
  },
  {
   "cell_type": "code",
   "execution_count": 22,
   "metadata": {},
   "outputs": [
    {
     "data": {
      "text/plain": [
       "-1"
      ]
     },
     "execution_count": 22,
     "metadata": {},
     "output_type": "execute_result"
    }
   ],
   "source": [
    "url = \"http://10.218.216.221:8080/shot.jpg\"\n",
    "#extract the contents of the url\n",
    "url_response = urllib.request.urlopen(url)\n",
    "#once we have the response,we need to convert it into a numpy array\n",
    "\n",
    "img_array = np.array(bytearray(url_response.read()),dtype=np.uint8)\n",
    "\n",
    "#decoding the image\n",
    "\n",
    "img = cv2.imdecode(img_array,0) ##(buf= it is the image data received in bytes,flags=it specifies the way in which image should be read)\n",
    "img = imutils.resize(img, width=1000, height=1000)\n",
    "cv2.imshow('Text Detection',img)\n",
    "cv2.waitKey()\n",
    "\n",
    "  \n"
   ]
  },
  {
   "cell_type": "markdown",
   "metadata": {},
   "source": [
    "# From png file detect the text\n"
   ]
  },
  {
   "cell_type": "code",
   "execution_count": 23,
   "metadata": {},
   "outputs": [
    {
     "name": "stdout",
     "output_type": "stream",
     "text": [
      " V\n",
      " Y\n",
      " W\n",
      " V\n",
      " U\n",
      " I\n",
      " IP\n",
      " S\n",
      " R\n",
      " Q\n",
      " P\n",
      " O\n",
      " N\n",
      " M\n",
      " L\n",
      " K\n",
      " J\n",
      " H\n",
      " G\n",
      " F\n",
      " E\n",
      " D\n",
      " B\n",
      " A\n",
      " C\n"
     ]
    }
   ],
   "source": [
    "pytesseract.pytesseract.tesseract_cmd =r'C:\\\\Users\\\\ASUS\\\\Tesseract-OCR\\\\tesseract.exe'\n",
    " \n",
    "# Read image from which text needs to be extracted\n",
    "img = cv2.imread(\"Text Detection.png\")\n",
    " \n",
    "# Preprocessing the image starts\n",
    " \n",
    "# Convert the image to gray scale\n",
    "gray = cv2.cvtColor(img, cv2.COLOR_BGR2GRAY)\n",
    "\n",
    "# Performing OTSU threshold\n",
    "ret, thresh1 = cv2.threshold(gray, 0, 255, cv2.THRESH_OTSU | cv2.THRESH_BINARY_INV)\n",
    "rect_kernel = cv2.getStructuringElement(cv2.MORPH_RECT, (8, 8))\n",
    " \n",
    "# Applying dilation on the threshold image\n",
    "dilation = cv2.dilate(thresh1, rect_kernel, iterations = 1)\n",
    " \n",
    "# Finding contours\n",
    "contours, hierarchy = cv2.findContours(dilation, cv2.RETR_EXTERNAL,cv2.CHAIN_APPROX_NONE)\n",
    " \n",
    "# Creating a copy of image\n",
    "im2 = img.copy()\n",
    " \n",
    "# A text file is created and flushed\n",
    "file = open(\"recognized.txt\", \"w+\")\n",
    "file.write(\"\")\n",
    "file.close()\n",
    " \n",
    "# Looping through the identified contours\n",
    "# Then rectangular part is cropped and passed on\n",
    "# to pytesseract for extracting text from it\n",
    "# Extracted text is then written into the text file\n",
    "for cnt in contours:\n",
    "    x, y, w, h = cv2.boundingRect(cnt)\n",
    "     \n",
    "    # Drawing a rectangle on copied image\n",
    "    rect = cv2.rectangle(im2, (x, y), (x + w, y + h), 6)\n",
    "     \n",
    "    #cropped the text block for giving input to OCR\n",
    "    cropped  = im2[y:y + h, x:x + w]\n",
    "     \n",
    "    # Open the file in append mode\n",
    "    file = open(\"recognized.txt\", \"a\")\n",
    "     \n",
    "    # Apply OCR on the cropped image\n",
    "    \n",
    "    \n",
    "    text = pytesseract.image_to_string(cropped, config = '--psm 7')\n",
    "    temp =' '\n",
    "    for i in text:\n",
    "        if(i>='A' or i>='a') and (i<='Z' and i<='z'):\n",
    "            temp+=i\n",
    "            print(temp)\n",
    "        \n",
    "    # Appending the text into file\n",
    "    file.write(temp)\n",
    "    file.write('\\n')\n",
    "    \n",
    "    # Close the file\n",
    "    file.close\n",
    "    \n",
    "\n"
   ]
  },
  {
   "cell_type": "markdown",
   "metadata": {},
   "source": [
    "# Reading the text file as a speech"
   ]
  },
  {
   "cell_type": "code",
   "execution_count": 24,
   "metadata": {},
   "outputs": [],
   "source": [
    "engine = pyttsx3.init()\n",
    "with open('recognized.txt','r') as file:\n",
    "    for i in file.readlines():\n",
    "        engine.say(i)\n",
    "        engine.runAndWait()"
   ]
  },
  {
   "cell_type": "code",
   "execution_count": null,
   "metadata": {},
   "outputs": [],
   "source": []
  }
 ],
 "metadata": {
  "kernelspec": {
   "display_name": "Python 3 (ipykernel)",
   "language": "python",
   "name": "python3"
  },
  "language_info": {
   "codemirror_mode": {
    "name": "ipython",
    "version": 3
   },
   "file_extension": ".py",
   "mimetype": "text/x-python",
   "name": "python",
   "nbconvert_exporter": "python",
   "pygments_lexer": "ipython3",
   "version": "3.9.13"
  }
 },
 "nbformat": 4,
 "nbformat_minor": 2
}
